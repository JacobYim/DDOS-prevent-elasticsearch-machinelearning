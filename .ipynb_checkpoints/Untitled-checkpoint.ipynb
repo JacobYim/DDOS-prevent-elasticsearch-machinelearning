{
 "cells": [
  {
   "cell_type": "code",
   "execution_count": null,
   "metadata": {},
   "outputs": [],
   "source": [
    "from elasticsearch import Elasticsearch\n",
    "\n",
    "es = Elasticsearch('host'='localhost', 'port'=9200)\n",
    "\n",
    "res = scan(es, index='log-attack', doc_type=\"log\", query = {query: {match_all : {} }})\n",
    "\n",
    "for item in res :\n",
    "    print(res)\n",
    "\n",
    "\n"
   ]
  }
 ],
 "metadata": {
  "kernelspec": {
   "display_name": "Python 3",
   "language": "python",
   "name": "python3"
  },
  "language_info": {
   "codemirror_mode": {
    "name": "ipython",
    "version": 3
   },
   "file_extension": ".py",
   "mimetype": "text/x-python",
   "name": "python",
   "nbconvert_exporter": "python",
   "pygments_lexer": "ipython3",
   "version": "3.6.8"
  }
 },
 "nbformat": 4,
 "nbformat_minor": 2
}
